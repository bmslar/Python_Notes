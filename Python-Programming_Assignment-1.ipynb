{
 "cells": [
  {
   "cell_type": "markdown",
   "id": "5da45bd0-afa5-4177-bd37-d41593af7484",
   "metadata": {},
   "source": [
    "## Python Programming Assignment-1"
   ]
  },
  {
   "cell_type": "code",
   "execution_count": 2,
   "id": "52868efb-0246-42e4-b8bd-6bc4e2d74997",
   "metadata": {},
   "outputs": [
    {
     "name": "stdout",
     "output_type": "stream",
     "text": [
      "Hello Python\n"
     ]
    }
   ],
   "source": [
    "# 1. Write a Python program to print \"Hello Python\"?\n",
    "print(\"Hello Python\")"
   ]
  },
  {
   "cell_type": "code",
   "execution_count": 4,
   "id": "1201a8f1-b637-48f1-a3e5-84662d17eea0",
   "metadata": {},
   "outputs": [
    {
     "name": "stdin",
     "output_type": "stream",
     "text": [
      "Enter a number 2\n",
      "Do you want to add or divide? Type + to add / to divide:  d\n",
      "Enter another number 3\n"
     ]
    },
    {
     "data": {
      "text/plain": [
       "'Invalid entry'"
      ]
     },
     "execution_count": 4,
     "metadata": {},
     "output_type": "execute_result"
    }
   ],
   "source": [
    "# 2. Write a Python program to do arithmetical operations addition and division.?\n",
    "def calc():\n",
    "    num1 = int(input(\"Enter a number\"))\n",
    "    operation = input(\"Do you want to add or divide? Type + to add / to divide: \")\n",
    "    num2 = int(input(\"Enter another number\"))\n",
    "    if operation == '+':\n",
    "        val = num1 + num2\n",
    "        return f\"Sum of {num1} and {num2} is {val}\"\n",
    "    elif operation == \"/\":\n",
    "        val = round(num1 / num2, 2)\n",
    "        return f\"Division of {num1} and {num2} is {val}\"\n",
    "    else:\n",
    "        return \"Invalid entry\"\n",
    "    \n",
    "\n",
    "calc()"
   ]
  },
  {
   "cell_type": "code",
   "execution_count": 5,
   "id": "950f2344-9883-477b-bd72-c58ac6dcb110",
   "metadata": {},
   "outputs": [
    {
     "name": "stdin",
     "output_type": "stream",
     "text": [
      "Enter the length:  30\n",
      "Enter the breath:  19\n"
     ]
    },
    {
     "data": {
      "text/plain": [
       "285.0"
      ]
     },
     "execution_count": 5,
     "metadata": {},
     "output_type": "execute_result"
    }
   ],
   "source": [
    "# 3. Write a Python program to find the area of a triangle?\n",
    "def area_of_triangle():\n",
    "    length = int(input(\"Enter the length: \"))\n",
    "    breath = int(input(\"Enter the breath: \"))\n",
    "    area = (length * breath) / 2\n",
    "    return area\n",
    "\n",
    "area_of_triangle()"
   ]
  },
  {
   "cell_type": "code",
   "execution_count": 8,
   "id": "8c82d264-e0df-408b-978f-b7ffefa48d7e",
   "metadata": {},
   "outputs": [
    {
     "data": {
      "text/plain": [
       "('World', 'Hello')"
      ]
     },
     "execution_count": 8,
     "metadata": {},
     "output_type": "execute_result"
    }
   ],
   "source": [
    "# 4. Write a Python program to swap two variables?\n",
    "a = \"Hello\"\n",
    "b = \"World\"\n",
    "c = \"\"\n",
    "c = a\n",
    "a = b\n",
    "b = c\n",
    "a, b"
   ]
  },
  {
   "cell_type": "code",
   "execution_count": 10,
   "id": "36a0677e-4742-481f-aa88-9de8d2d1241d",
   "metadata": {},
   "outputs": [
    {
     "data": {
      "text/plain": [
       "79"
      ]
     },
     "execution_count": 10,
     "metadata": {},
     "output_type": "execute_result"
    }
   ],
   "source": [
    "# 5. Write a Python program to generate a random number?\n",
    "import numpy as np\n",
    "np.random.randint(100)"
   ]
  }
 ],
 "metadata": {
  "kernelspec": {
   "display_name": "Python 3",
   "language": "python",
   "name": "python3"
  },
  "language_info": {
   "codemirror_mode": {
    "name": "ipython",
    "version": 3
   },
   "file_extension": ".py",
   "mimetype": "text/x-python",
   "name": "python",
   "nbconvert_exporter": "python",
   "pygments_lexer": "ipython3",
   "version": "3.8.8"
  }
 },
 "nbformat": 4,
 "nbformat_minor": 5
}
