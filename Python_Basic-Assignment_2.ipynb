{
 "cells": [
  {
   "cell_type": "markdown",
   "id": "f9a4d804-f3d4-4281-ad8d-f966a44ebb0e",
   "metadata": {},
   "source": [
    "## Python Basics - Assignment 2"
   ]
  },
  {
   "cell_type": "markdown",
   "id": "94f091b5-5d2a-482f-bdf6-c98e961269b4",
   "metadata": {},
   "source": [
    "#### 1. What are the two values of the Boolean data type? How do you write them?\n",
    "* True\n",
    "* False\n"
   ]
  },
  {
   "cell_type": "markdown",
   "id": "ac4e3d8f-8a40-47f8-b589-a62311e9063b",
   "metadata": {},
   "source": [
    "#### 2. What are the three different types of Boolean operators?\n",
    "* and\n",
    "* or\n",
    "* not\n"
   ]
  },
  {
   "cell_type": "markdown",
   "id": "55a7f75c-a0de-429a-8dc5-c3c30fdeb5e7",
   "metadata": {},
   "source": [
    "#### 3. Make a list of each Boolean operator's truth tables (i.e. every possible combination of Boolean values for the operator and what it evaluate ).\n",
    "\n",
    "* 1 == 1 --> True\n",
    "* 1 == 0 --> False\n",
    "* 1 > 0  --> True\n",
    "* 1 < 0  --> False\n",
    "* 1 != 0 --> True\n"
   ]
  },
  {
   "cell_type": "markdown",
   "id": "a2bb6426-b57c-47e2-ba98-79a3359d39cc",
   "metadata": {},
   "source": [
    "#### 4. What are the values of the following expressions?\n",
    "* (5 > 4) and (3 == 5) --> False\n",
    "* not (5 > 4) --> False\n",
    "* (5 > 4) or (3 == 5) --> True\n",
    "* not ((5 > 4) or (3 == 5)) --> False\n",
    "* (True and True) and (True == False) --> False\n",
    "* (not False) or (not True)"
   ]
  },
  {
   "cell_type": "markdown",
   "id": "fe3a3d28-e3a3-443d-b642-efc55ee316d5",
   "metadata": {},
   "source": [
    "#### 5. What are the six comparison operators?\n",
    "* (>)\n",
    "* (<)\n",
    "* (==)\n",
    "* (!=)\n",
    "* (<=)\n",
    "* (>=)"
   ]
  },
  {
   "cell_type": "markdown",
   "id": "71110d3b-c995-48d2-896b-76a7328eeab3",
   "metadata": {},
   "source": [
    "#### 6. How do you tell the difference between the equal to and assignment operators?Describe a condition and when you would use one.\n",
    "\n",
    "An assignment operator has single equal sign (=), whereas on a boolean operation we use equal to (==)\n",
    "* bill = 100 (assignment operator)\n",
    "* bill == 100 (Boolean operation to check whether it is True or False)"
   ]
  },
  {
   "cell_type": "code",
   "execution_count": null,
   "id": "505f3e0b-ac65-4fc8-bef4-65bcd48ae8c3",
   "metadata": {},
   "outputs": [],
   "source": [
    "'''\n",
    "7. Identify the three blocks in this code:\n",
    "spam = 0\n",
    "if spam == 10:\n",
    "print('eggs')\n",
    "if spam > 5:\n",
    "print('bacon')\n",
    "else:\n",
    "print('ham')\n",
    "print('spam')\n",
    "print('spam')\n",
    "'''\n",
    "\n",
    "spam = 0\n",
    "if spam == 10:\n",
    "    print('eggs')\n",
    "elif spam > 5:\n",
    "    print('bacon')\n",
    "else:\n",
    "    print('ham')\n",
    "    print('spam')\n",
    "    print('spam')"
   ]
  },
  {
   "cell_type": "code",
   "execution_count": null,
   "id": "d78e14c8-b87a-4521-9d97-6749d4ff1cbd",
   "metadata": {},
   "outputs": [],
   "source": [
    "# 8. Write code that prints Hello if 1 is stored in spam, prints Howdy if 2 is stored in spam, and prints Greetings! if anything else is stored in spam.\n",
    "spam = 0\n",
    "if spam == 1:\n",
    "    print(\"Hello\")\n",
    "elif spam == 2:\n",
    "    print(\"Howdy\")\n",
    "else:\n",
    "    print(\"Greetings!\")"
   ]
  },
  {
   "cell_type": "markdown",
   "id": "5e5fcd96-f460-4276-92fa-3ff55d424bb5",
   "metadata": {},
   "source": [
    "#### 9. If your programme is stuck in an endless loop, what keys you’ll press?\n",
    "* CTRL + C"
   ]
  },
  {
   "cell_type": "markdown",
   "id": "357e80ea-cc70-42e2-9061-c382eb740fa9",
   "metadata": {},
   "source": [
    "#### 10. How can you tell the difference between break and continue?\n",
    "\n",
    "The break statement is used to terminate the loop. The continue statement is opposite to that of break statement, instead of terminating the loop, it forces to execute the next iteration of the loop."
   ]
  },
  {
   "cell_type": "markdown",
   "id": "f72413d9-8681-4d93-ad86-840efeadfa0a",
   "metadata": {},
   "source": [
    "#### 11. In a for loop, what is the difference between range(10), range(0, 10), and range(0, 10, 1)?\n",
    "* range(10) - The positional argument shows the stop point to 10. This will execute from 0 till stop point\n",
    "* range(0, 10) - The positional argument shows the start point (0) to stop point (10). This will execute from start point till stop point\n",
    "* range(0, 10, 1) - The positional argument shows the start point (0) to stop point (10) by step (1). This will execute from start point till stop point by step"
   ]
  },
  {
   "cell_type": "code",
   "execution_count": null,
   "id": "4c44d141-1d6f-4335-90a4-6eae156a6d21",
   "metadata": {},
   "outputs": [],
   "source": [
    "# 12. Write a short program that prints the numbers 1 to 10 using a for loop. Then write an equivalent program that prints the numbers 1 to 10 using a while loop.\n",
    "for i in range(1, 11):\n",
    "    print(i)\n",
    "\n",
    "x = 1\n",
    "while x < 11:\n",
    "    print(x)\n",
    "    x += 1"
   ]
  },
  {
   "cell_type": "markdown",
   "id": "4d0fd000-7e9a-4aa9-a474-e676bf73b77f",
   "metadata": {},
   "source": [
    "#### 13. If you had a function named bacon() inside a module named spam, how would you call it after importing spam?\n",
    "* spam.bacon()"
   ]
  }
 ],
 "metadata": {
  "kernelspec": {
   "display_name": "Python 3",
   "language": "python",
   "name": "python3"
  },
  "language_info": {
   "codemirror_mode": {
    "name": "ipython",
    "version": 3
   },
   "file_extension": ".py",
   "mimetype": "text/x-python",
   "name": "python",
   "nbconvert_exporter": "python",
   "pygments_lexer": "ipython3",
   "version": "3.8.8"
  }
 },
 "nbformat": 4,
 "nbformat_minor": 5
}
